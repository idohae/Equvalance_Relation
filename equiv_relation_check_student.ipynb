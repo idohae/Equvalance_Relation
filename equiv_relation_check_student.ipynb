{
  "nbformat": 4,
  "nbformat_minor": 0,
  "metadata": {
    "colab": {
      "provenance": []
    },
    "kernelspec": {
      "name": "python3",
      "display_name": "Python 3"
    },
    "language_info": {
      "name": "python"
    }
  },
  "cells": [
    {
      "cell_type": "markdown",
      "source": [
        "# 관계 R 이 set 으로 주어질 때, 이 관계 R 이 동치 관계인지를 판단하는 파이썬 모듈을 만들라. 이 모듈에는 check_transitive(R), check_symmetric(R), check_reflexive(R) 을 포함하며, 이 함수들은 True, False 를 반환한다. 이 결과를 종합하여, 동치관계인지 판단하는 check_equivalance(R) 도 들어있는데, 이 함수에서 위의 세 함수 (즉, check_transitive(R), check_symmetric(R), check_reflexive(R)) 을 호출하여 해당 결과들을 종합하여 동치 관계 여부를 판단하고, True 혹은 False 를 최종적으로 반환해준다. 이 모듈이 팀원들의 깃페이지에 read.md 와 함께 기록되어 다운 받으면 설치 후 각 함수를 실행될 수 있도록 한다.\n",
        "\n",
        "## 결과는 모든 집합 형태의 관계에 대해 작동해야하지만, 특히 아래의 예로 주어지는 집합에 대해 작동하도록 한다.\n",
        "\n",
        "```\n",
        "A = {1,2,3,4} # 관계가 정의된 집합\n",
        "R = {(1, 1), (1, 3), (2, 2), (3, 3),(3, 1), (3, 4), (4, 4), (4, 3)} # 정의된 관계\n",
        "```"
      ],
      "metadata": {
        "id": "OAR-JlIqVoBM"
      }
    },
    {
      "cell_type": "code",
      "source": [
        "A = {1,2,3,4} # 관계가 정의된 집합\n",
        "R = {(1, 1), (1, 3), (2, 2), (3, 3),(3, 1), (3, 4), (4, 4), (4, 3)} # 정의된 관계"
      ],
      "metadata": {
        "id": "9O0EErS8nA-J"
      },
      "execution_count": 1,
      "outputs": []
    },
    {
      "cell_type": "code",
      "execution_count": 2,
      "metadata": {
        "id": "xIKGLs8kVKtQ"
      },
      "outputs": [],
      "source": [
        "# (1)  여기에 전체 코드\n",
        "def check_reflexive(A,R):\n",
        "    for x in A:\n",
        "        if (x,x) in R:\n",
        "            continue\n",
        "        else:\n",
        "            return False\n",
        "    return True\n",
        "\n",
        "def check_symmetric(R):\n",
        "    for (x,y) in R:\n",
        "        if (y,x) in R:\n",
        "            continue\n",
        "        else:\n",
        "            return False\n",
        "    return True\n",
        "\n",
        "def check_transitive(A,R):\n",
        "    for (x,y) in R:\n",
        "        for z in A:\n",
        "            if (y,z) in R:\n",
        "                if (x,z) in R:\n",
        "                    continue\n",
        "                else:\n",
        "                    return False\n",
        "    return True\n",
        "\n",
        "def check_equivalance(A,R):\n",
        "    if check_reflexive(A,R) and check_symmetric(R) and check_transitive(A,R):\n",
        "        return True\n",
        "    else:\n",
        "        return False"
      ]
    },
    {
      "cell_type": "code",
      "source": [
        "check_equivalance(A,R)"
      ],
      "metadata": {
        "colab": {
          "base_uri": "https://localhost:8080/"
        },
        "id": "Ecn8ilpjrLaH",
        "outputId": "3d19d57d-c9ae-43fb-98c4-9435cc1030e1"
      },
      "execution_count": 3,
      "outputs": [
        {
          "output_type": "execute_result",
          "data": {
            "text/plain": [
              "False"
            ]
          },
          "metadata": {},
          "execution_count": 3
        }
      ]
    },
    {
      "cell_type": "code",
      "source": [
        "# (2) 모듈이 설명과 함께 올라온 깃허브 링크 추가:\n",
        "# https://github.com/idohae/Equvalance_Relation"
      ],
      "metadata": {
        "id": "RhUQVjS-VORi"
      },
      "execution_count": 2,
      "outputs": []
    },
    {
      "cell_type": "code",
      "source": [],
      "metadata": {
        "id": "aL7aEeQo12x1"
      },
      "execution_count": null,
      "outputs": []
    }
  ]
}